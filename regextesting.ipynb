{
 "cells": [
  {
   "cell_type": "markdown",
   "metadata": {},
   "source": [
    "username regex\n"
   ]
  },
  {
   "cell_type": "code",
   "execution_count": null,
   "metadata": {},
   "outputs": [
    {
     "name": "stdout",
     "output_type": "stream",
     "text": [
      "user123: Valid\n",
      "usr1: Valid\n",
      "user: Invalid\n",
      "123456789012: Invalid\n",
      "user_123: Invalid\n",
      "12: Invalid\n",
      "abc123: Valid\n",
      "a1bcde: Valid\n"
     ]
    }
   ],
   "source": [
    "import re\n",
    "\n",
    "username_regex = (r'^(?=.*[A-Za-z])(?=.*\\d)[A-Za-z\\d]{4,12}$')\n",
    "\n",
    "test_usernames = [\n",
    "    \"user123\",   \n",
    "    \"usr1\",      \n",
    "    \"user\",      \n",
    "    \"123456789012\", \n",
    "    \"user_123\",  \n",
    "    \"12\",        \n",
    "    \"abc123\",    \n",
    "    \"a1bcde\"     \n",
    "]\n",
    "\n",
    "for username in test_usernames:\n",
    "    if re.match(username_regex, username):\n",
    "        print(f\"{username}: Valid\")\n",
    "    else:\n",
    "        print(f\"{username}: Invalid\")\n",
    "\n"
   ]
  },
  {
   "cell_type": "markdown",
   "metadata": {},
   "source": [
    "password regex"
   ]
  },
  {
   "cell_type": "code",
   "execution_count": 11,
   "metadata": {},
   "outputs": [
    {
     "name": "stdout",
     "output_type": "stream",
     "text": [
      "password123: Valid\n",
      "12345678: Invalid\n",
      "abcdefgh: Invalid\n",
      "pass1: Invalid\n",
      "longerpassword2: Valid\n"
     ]
    }
   ],
   "source": [
    "import re\n",
    "\n",
    "password_regex = (r'^(?=.*[A-Za-z])(?=.*\\d)[A-Za-z\\d]{8,}$')\n",
    "\n",
    "test_passwords = [\n",
    "    \"password123\", \n",
    "    \"12345678\",     \n",
    "    \"abcdefgh\",     \n",
    "    \"pass1\",        \n",
    "    \"longerpassword2\"   \n",
    "]\n",
    "\n",
    "for pwd in test_passwords:\n",
    "    if re.match(password_regex, pwd):\n",
    "        print(f\"{pwd}: Valid\")\n",
    "    else:\n",
    "        print(f\"{pwd}: Invalid\")\n"
   ]
  },
  {
   "cell_type": "markdown",
   "metadata": {},
   "source": [
    "email regex"
   ]
  },
  {
   "cell_type": "code",
   "execution_count": 8,
   "metadata": {},
   "outputs": [
    {
     "name": "stdout",
     "output_type": "stream",
     "text": [
      "james@yahoo.com: Valid\n",
      "shoey.james@yahoo.com: Valid\n",
      "James1#yahoo.com: Invalid\n",
      "Shoemaker@yahoo: Invalid\n",
      "james.com: Invalid\n",
      "james@gmail.com: Valid\n",
      "James1@yahoo.com: Valid\n"
     ]
    }
   ],
   "source": [
    "import re\n",
    "\n",
    "email_regex = (r'^[a-zA-Z0-9._%+-]+@[a-zA-Z0-9.-]+\\.[a-zA-Z]{2,}$')\n",
    "\n",
    "test_email = [\n",
    "    \"james@yahoo.com\", \n",
    "    \"shoey.james@yahoo.com\",     \n",
    "    \"James1#yahoo.com\",     \n",
    "    \"Shoemaker@yahoo\",        \n",
    "    \"james.com\",\n",
    "    \"james@gmail.com\",\n",
    "    \"James1@yahoo.com\"   \n",
    "]\n",
    "\n",
    "for email in test_email:\n",
    "    if re.match(email_regex, email):\n",
    "        print(f\"{email}: Valid\")\n",
    "    else:\n",
    "        print(f\"{email}: Invalid\")"
   ]
  },
  {
   "cell_type": "markdown",
   "metadata": {},
   "source": [
    "first and last name regex"
   ]
  },
  {
   "cell_type": "code",
   "execution_count": 5,
   "metadata": {},
   "outputs": [
    {
     "name": "stdout",
     "output_type": "stream",
     "text": [
      "James Shoemaker: Valid\n",
      "Shoemaker: Valid\n",
      "James1: Invalid\n",
      "Shoemaker  : Valid\n",
      "ShoemakerShoemakerShoemakerShoemaker: Invalid\n",
      "A: Invalid\n"
     ]
    }
   ],
   "source": [
    "import re\n",
    "\n",
    "name_regex = (r'^[A-Za-z\\s]{2,30}$')\n",
    "\n",
    "test_names = [\n",
    "    \"James Shoemaker\", \n",
    "    \"Shoemaker\",     \n",
    "    \"James1\",     \n",
    "    \"Shoemaker  \",        \n",
    "    \"ShoemakerShoemakerShoemakerShoemaker\",\n",
    "    \"A\"   \n",
    "]\n",
    "\n",
    "for names in test_names:\n",
    "    if re.match(name_regex, names):\n",
    "        print(f\"{names}: Valid\")\n",
    "    else:\n",
    "        print(f\"{names}: Invalid\")"
   ]
  },
  {
   "cell_type": "markdown",
   "metadata": {},
   "source": [
    "phone number regex"
   ]
  },
  {
   "cell_type": "code",
   "execution_count": null,
   "metadata": {},
   "outputs": [
    {
     "name": "stdout",
     "output_type": "stream",
     "text": [
      "4195811362: Valid\n",
      "123456789: Invalid\n",
      "419581136a: Invalid\n",
      "jamesjames: Invalid\n",
      "14195811362: Valid\n"
     ]
    }
   ],
   "source": [
    "import re\n",
    "\n",
    "phone_regex = (r'^\\+?[0-9]{10,15}$')\n",
    "\n",
    "test_phone = [\n",
    "    \"4199871362\", \n",
    "    \"123456789\",     \n",
    "    \"475181136a\",     \n",
    "    \"jamesjames\",        \n",
    "    \"16755811362\"   \n",
    "]\n",
    "\n",
    "for phone in test_phone:\n",
    "    if re.match(phone_regex, phone):\n",
    "        print(f\"{phone}: Valid\")\n",
    "    else:\n",
    "        print(f\"{phone}: Invalid\")"
   ]
  }
 ],
 "metadata": {
  "kernelspec": {
   "display_name": "Python 3",
   "language": "python",
   "name": "python3"
  },
  "language_info": {
   "codemirror_mode": {
    "name": "ipython",
    "version": 3
   },
   "file_extension": ".py",
   "mimetype": "text/x-python",
   "name": "python",
   "nbconvert_exporter": "python",
   "pygments_lexer": "ipython3",
   "version": "3.13.2"
  }
 },
 "nbformat": 4,
 "nbformat_minor": 2
}
